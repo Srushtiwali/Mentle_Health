{
 "cells": [
  {
   "cell_type": "code",
   "execution_count": 43,
   "metadata": {},
   "outputs": [],
   "source": [
    "import numpy as np\n",
    "import pandas as pd\n",
    "import re\n",
    "import nltk\n",
    "from nltk.corpus import stopwords\n",
    "from nltk.stem.porter import PorterStemmer\n",
    "from sklearn.feature_extraction.text import TfidfVectorizer\n",
    "from sklearn.model_selection import train_test_split\n",
    "from sklearn.neighbors import KNeighborsClassifier"
   ]
  },
  {
   "cell_type": "code",
   "execution_count": 44,
   "metadata": {
    "scrolled": true
   },
   "outputs": [
    {
     "name": "stdout",
     "output_type": "stream",
     "text": [
      "['i', 'me', 'my', 'myself', 'we', 'our', 'ours', 'ourselves', 'you', \"you're\", \"you've\", \"you'll\", \"you'd\", 'your', 'yours', 'yourself', 'yourselves', 'he', 'him', 'his', 'himself', 'she', \"she's\", 'her', 'hers', 'herself', 'it', \"it's\", 'its', 'itself', 'they', 'them', 'their', 'theirs', 'themselves', 'what', 'which', 'who', 'whom', 'this', 'that', \"that'll\", 'these', 'those', 'am', 'is', 'are', 'was', 'were', 'be', 'been', 'being', 'have', 'has', 'had', 'having', 'do', 'does', 'did', 'doing', 'a', 'an', 'the', 'and', 'but', 'if', 'or', 'because', 'as', 'until', 'while', 'of', 'at', 'by', 'for', 'with', 'about', 'against', 'between', 'into', 'through', 'during', 'before', 'after', 'above', 'below', 'to', 'from', 'up', 'down', 'in', 'out', 'on', 'off', 'over', 'under', 'again', 'further', 'then', 'once', 'here', 'there', 'when', 'where', 'why', 'how', 'all', 'any', 'both', 'each', 'few', 'more', 'most', 'other', 'some', 'such', 'no', 'nor', 'not', 'only', 'own', 'same', 'so', 'than', 'too', 'very', 's', 't', 'can', 'will', 'just', 'don', \"don't\", 'should', \"should've\", 'now', 'd', 'll', 'm', 'o', 're', 've', 'y', 'ain', 'aren', \"aren't\", 'couldn', \"couldn't\", 'didn', \"didn't\", 'doesn', \"doesn't\", 'hadn', \"hadn't\", 'hasn', \"hasn't\", 'haven', \"haven't\", 'isn', \"isn't\", 'ma', 'mightn', \"mightn't\", 'mustn', \"mustn't\", 'needn', \"needn't\", 'shan', \"shan't\", 'shouldn', \"shouldn't\", 'wasn', \"wasn't\", 'weren', \"weren't\", 'won', \"won't\", 'wouldn', \"wouldn't\"]\n"
     ]
    },
    {
     "name": "stderr",
     "output_type": "stream",
     "text": [
      "[nltk_data] Downloading package stopwords to\n",
      "[nltk_data]     C:\\Users\\dell\\AppData\\Roaming\\nltk_data...\n",
      "[nltk_data]   Package stopwords is already up-to-date!\n"
     ]
    }
   ],
   "source": [
    "#printing stopwords\n",
    "nltk.download('stopwords')\n",
    "print(stopwords.words('english'))"
   ]
  },
  {
   "cell_type": "code",
   "execution_count": 45,
   "metadata": {},
   "outputs": [
    {
     "name": "stdout",
     "output_type": "stream",
     "text": [
      "   Unnamed: 0                                               text        class\n",
      "0           2  Ex Wife Threatening SuicideRecently I left my ...      suicide\n",
      "1           3  Am I weird I don't get affected by compliments...  non-suicide\n",
      "2           4  Finally 2020 is almost over... So I can never ...  non-suicide\n",
      "3           8          i need helpjust help me im crying so hard      suicide\n",
      "4           9  Iâm so lostHello, my name is Adam (16) and I...      suicide\n"
     ]
    }
   ],
   "source": [
    "#data preprocessing\n",
    "mh_data=pd.read_csv('suicide.csv',encoding='unicode_escape')\n",
    "#printing first five lines\n",
    "print(mh_data.head())"
   ]
  },
  {
   "cell_type": "code",
   "execution_count": 46,
   "metadata": {},
   "outputs": [
    {
     "name": "stdout",
     "output_type": "stream",
     "text": [
      "Unnamed: 0    0\n",
      "text          0\n",
      "class         0\n",
      "dtype: int64\n"
     ]
    }
   ],
   "source": [
    "#checking for missing values\n",
    "print(mh_data.isnull().sum())"
   ]
  },
  {
   "cell_type": "code",
   "execution_count": 47,
   "metadata": {},
   "outputs": [
    {
     "name": "stdout",
     "output_type": "stream",
     "text": [
      "Unnamed: 0    0\n",
      "text          0\n",
      "class         0\n",
      "dtype: int64\n"
     ]
    }
   ],
   "source": [
    "#replacing missing values with null string\n",
    "mh_data=mh_data.fillna('')\n",
    "print(mh_data.isnull().sum())"
   ]
  },
  {
   "cell_type": "code",
   "execution_count": 48,
   "metadata": {},
   "outputs": [
    {
     "name": "stdout",
     "output_type": "stream",
     "text": [
      "0           suicide\n",
      "1       non-suicide\n",
      "2       non-suicide\n",
      "3           suicide\n",
      "4           suicide\n",
      "           ...     \n",
      "3361    non-suicide\n",
      "3362        suicide\n",
      "3363        suicide\n",
      "3364        suicide\n",
      "3365        suicide\n",
      "Name: class, Length: 3366, dtype: object\n"
     ]
    }
   ],
   "source": [
    "#separating feature and target\n",
    "X=mh_data.drop(columns='class',axis=1)\n",
    "Y=mh_data['class']\n",
    "print(Y)"
   ]
  },
  {
   "cell_type": "code",
   "execution_count": 49,
   "metadata": {},
   "outputs": [
    {
     "name": "stdout",
     "output_type": "stream",
     "text": [
      "0       Ex Wife Threatening SuicideRecently I left my ...\n",
      "1       Am I weird I don't get affected by compliments...\n",
      "2       Finally 2020 is almost over... So I can never ...\n",
      "3               i need helpjust help me im crying so hard\n",
      "4       Iâm so lostHello, my name is Adam (16) and I...\n",
      "                              ...                        \n",
      "3361    How do I change my reddit username? Is so crin...\n",
      "3362    WelpIâve never felt so close to going thru w...\n",
      "3363    i really wish to feel happy again soon, i have...\n",
      "3364    Is there actually any hope?Everything seems pr...\n",
      "3365    Planning on bringing a weapon to schoolJust th...\n",
      "Name: text, Length: 3366, dtype: object\n"
     ]
    }
   ],
   "source": [
    "print(mh_data['text'])"
   ]
  },
  {
   "cell_type": "code",
   "execution_count": 50,
   "metadata": {},
   "outputs": [
    {
     "name": "stdout",
     "output_type": "stream",
     "text": [
      "0       ex wife threatening suiciderecently i left my ...\n",
      "1       am i weird i don t get affected by compliments...\n",
      "2       finally is almost over so i can never hear has...\n",
      "3               i need helpjust help me im crying so hard\n",
      "4       i m so losthello my name is adam and i ve been...\n",
      "                              ...                        \n",
      "3361      how do i change my reddit username is so cringe\n",
      "3362    welpi ve never felt so close to going thru wit...\n",
      "3363    i really wish to feel happy again soon i haven...\n",
      "3364    is there actually any hope everything seems pr...\n",
      "3365    planning on bringing a weapon to schooljust th...\n",
      "Name: text, Length: 3366, dtype: object\n"
     ]
    }
   ],
   "source": [
    "#stemming\n",
    "port_stem=PorterStemmer()\n",
    "def stemming(content):\n",
    "    stemmed_content=re.sub('[^a-zA-Z]',' ',content)\n",
    "    stemmed_content=stemmed_content.lower()\n",
    "    stemmed_content=stemmed_content.split()\n",
    "    #stemmed_content=[port_stem.stem(word) for word in stemmed_content if not word in stopwords.words('english')]\n",
    "    stemmed_content=' '.join(stemmed_content)\n",
    "    return stemmed_content\n",
    "mh_data['text']=mh_data['text'].apply(stemming)\n",
    "print(mh_data['text'])"
   ]
  },
  {
   "cell_type": "code",
   "execution_count": 51,
   "metadata": {},
   "outputs": [
    {
     "name": "stdout",
     "output_type": "stream",
     "text": [
      "['ex wife threatening suiciderecently i left my wife for good because she has cheated on me twice and lied to me so much that i have decided to refuse to go back to her as of a few days ago she began threatening suicide i have tirelessly spent these paat few days talking her out of it and she keeps hesitating because she wants to believe i ll come back i know a lot of people will threaten this in order to get their way but what happens if she really does what do i do and how am i supposed to handle her death on my hands i still love my wife but i cannot deal with getting cheated on again and constantly feeling insecure i m worried today may be the day she does it and i hope so much it doesn t happen'\n",
      " 'am i weird i don t get affected by compliments if it s coming from someone i know irl but i feel really good when internet strangers do it'\n",
      " 'finally is almost over so i can never hear has been a bad year ever again i swear to fucking god it s so annoying'\n",
      " ...\n",
      " 'i really wish to feel happy again soon i haven t been genuinely happy in like years i sweari really can t take living like this anymore'\n",
      " 'is there actually any hope everything seems pretty pointless to me absolutely pointless there are things in the future that i should be looking forward to and i should be excited about them but i m not really the only thing i think that actually makes me happy anymore is attention sometimes but even then it doesn t always i m also spectacularly useless and worthless this is not something i m going to argue about they are facts i don t even know if i really want to be useful to anyone anymore i m pretty selfish on top of everything anyway back to the main question is there hope what s the lowest you ve been at that you manged to get back from can you change who you are as person when narcissism seems to be all that makes up your identity at this point and if you can t do you deserve to even live then if you know that you re a horrible person and you don t or can t change do you have the right to live i don t know if i do i feel like maybe i don t'\n",
      " 'planning on bringing a weapon to schooljust the thought of me bringing a knife to school and stabbing myself infront of everyone knowing that now they will know i have a problem people only care about you when you re dead i ve realized so kill myself i will stabbing myself in the main foyer would solve all my problems and finally get people to notice my fucking existence']\n",
      "['suicide' 'non-suicide' 'non-suicide' ... 'suicide' 'suicide' 'suicide']\n"
     ]
    }
   ],
   "source": [
    "#X has features and Y has labes\n",
    "X=mh_data['text'].values\n",
    "Y=mh_data['class'].values\n",
    "print(X)\n",
    "print(Y)"
   ]
  },
  {
   "cell_type": "code",
   "execution_count": 52,
   "metadata": {},
   "outputs": [
    {
     "name": "stdout",
     "output_type": "stream",
     "text": [
      "(3366,)\n"
     ]
    }
   ],
   "source": [
    "print(X.shape)"
   ]
  },
  {
   "cell_type": "code",
   "execution_count": 53,
   "metadata": {},
   "outputs": [
    {
     "name": "stdout",
     "output_type": "stream",
     "text": [
      "(3366,)\n"
     ]
    }
   ],
   "source": [
    "print(Y.shape)"
   ]
  },
  {
   "cell_type": "code",
   "execution_count": 54,
   "metadata": {},
   "outputs": [
    {
     "name": "stdout",
     "output_type": "stream",
     "text": [
      "  (0, 14209)\t0.09855531763979\n",
      "  (0, 14138)\t0.038245607740739165\n",
      "  (0, 14095)\t0.04938588283799427\n",
      "  (0, 14085)\t0.3103227913868508\n",
      "  (0, 14015)\t0.084105049417921\n",
      "  (0, 13921)\t0.058202334089033365\n",
      "  (0, 13874)\t0.08089270211024918\n",
      "  (0, 13272)\t0.09705288555116932\n",
      "  (0, 12958)\t0.06684312335589175\n",
      "  (0, 12949)\t0.17397379241312555\n",
      "  (0, 12922)\t0.1505978632497014\n",
      "  (0, 12827)\t0.24077620210884765\n",
      "  (0, 12825)\t0.1451979612531907\n",
      "  (0, 12795)\t0.034454642327197374\n",
      "  (0, 12754)\t0.07015021230104589\n",
      "  (0, 12717)\t0.06440902125485007\n",
      "  (0, 12711)\t0.027259889059033298\n",
      "  (0, 12707)\t0.033343940235258746\n",
      "  (0, 12540)\t0.07729325731019923\n",
      "  (0, 12376)\t0.08782897902672163\n",
      "  (0, 12323)\t0.1505978632497014\n",
      "  (0, 12314)\t0.06063082974421\n",
      "  (0, 12076)\t0.060169869537910925\n",
      "  (0, 11865)\t0.08593986174123383\n",
      "  (0, 11680)\t0.07053832063544524\n",
      "  :\t:\n",
      "  (3365, 8580)\t0.06738745598278126\n",
      "  (3365, 8563)\t0.15284914695273985\n",
      "  (3365, 8298)\t0.19985231024935204\n",
      "  (3365, 8294)\t0.0863397200611804\n",
      "  (3365, 7803)\t0.0464253457258241\n",
      "  (3365, 7626)\t0.1535765514936226\n",
      "  (3365, 7049)\t0.13272961244166545\n",
      "  (3365, 7047)\t0.06211260826065186\n",
      "  (3365, 7041)\t0.1592780348946368\n",
      "  (3365, 7003)\t0.08887589704076562\n",
      "  (3365, 6501)\t0.20526615974605988\n",
      "  (3365, 6389)\t0.04842168960282069\n",
      "  (3365, 5751)\t0.05194509485884684\n",
      "  (3365, 5290)\t0.0649197351355021\n",
      "  (3365, 5119)\t0.08991870104948983\n",
      "  (3365, 5012)\t0.22467670701404427\n",
      "  (3365, 4756)\t0.11049138604372655\n",
      "  (3365, 4404)\t0.1458913592069465\n",
      "  (3365, 4313)\t0.0922108162914148\n",
      "  (3365, 3059)\t0.11384911570389451\n",
      "  (3365, 1856)\t0.09534490968966948\n",
      "  (3365, 1620)\t0.35921362395074447\n",
      "  (3365, 518)\t0.07653012780125966\n",
      "  (3365, 406)\t0.06128158287893046\n",
      "  (3365, 37)\t0.06211260826065186\n"
     ]
    }
   ],
   "source": [
    "#converting textual data to numberical data\n",
    "vectorizer=TfidfVectorizer()\n",
    "vectorizer.fit(X)\n",
    "X=vectorizer.transform(X)\n",
    "print(X)"
   ]
  },
  {
   "cell_type": "code",
   "execution_count": 55,
   "metadata": {},
   "outputs": [
    {
     "data": {
      "text/plain": [
       "array([2, 1, 0])"
      ]
     },
     "execution_count": 55,
     "metadata": {},
     "output_type": "execute_result"
    }
   ],
   "source": [
    "#converting the labels values into numberics\n",
    "from sklearn import preprocessing\n",
    "label_encoder=preprocessing.LabelEncoder()\n",
    "mh_data['class']=label_encoder.fit_transform(mh_data['class'])\n",
    "mh_data['class'].unique()\n"
   ]
  },
  {
   "cell_type": "code",
   "execution_count": 56,
   "metadata": {},
   "outputs": [],
   "source": [
    "X_train, X_test, Y_train, Y_test = train_test_split(X, Y, test_size = 0.2)"
   ]
  },
  {
   "cell_type": "code",
   "execution_count": 57,
   "metadata": {},
   "outputs": [],
   "source": [
    "model = KNeighborsClassifier()"
   ]
  },
  {
   "cell_type": "code",
   "execution_count": 58,
   "metadata": {},
   "outputs": [
    {
     "data": {
      "text/plain": [
       "KNeighborsClassifier()"
      ]
     },
     "execution_count": 58,
     "metadata": {},
     "output_type": "execute_result"
    }
   ],
   "source": [
    "model.fit(X_train, Y_train)"
   ]
  },
  {
   "cell_type": "code",
   "execution_count": 59,
   "metadata": {},
   "outputs": [],
   "source": [
    "from sklearn.metrics import accuracy_score"
   ]
  },
  {
   "cell_type": "code",
   "execution_count": 60,
   "metadata": {},
   "outputs": [],
   "source": [
    "# accuracy score on the training data\n",
    "X_train_prediction = model.predict(X_train)\n",
    "training_data_accuracy = accuracy_score(X_train_prediction, Y_train)"
   ]
  },
  {
   "cell_type": "code",
   "execution_count": 61,
   "metadata": {},
   "outputs": [
    {
     "name": "stdout",
     "output_type": "stream",
     "text": [
      "Accuracy score of the training data :  0.9453937592867756\n"
     ]
    }
   ],
   "source": [
    "print('Accuracy score of the training data : ', training_data_accuracy)"
   ]
  },
  {
   "cell_type": "code",
   "execution_count": 62,
   "metadata": {},
   "outputs": [],
   "source": [
    "# accuracy score on the test data\n",
    "X_test_prediction = model.predict(X_test)\n",
    "test_data_accuracy = accuracy_score(X_test_prediction, Y_test)"
   ]
  },
  {
   "cell_type": "code",
   "execution_count": 63,
   "metadata": {},
   "outputs": [
    {
     "name": "stdout",
     "output_type": "stream",
     "text": [
      "Accuracy score of the test data :  0.8323442136498517\n"
     ]
    }
   ],
   "source": [
    "print('Accuracy score of the test data : ', test_data_accuracy)"
   ]
  },
  {
   "cell_type": "code",
   "execution_count": null,
   "metadata": {},
   "outputs": [],
   "source": []
  }
 ],
 "metadata": {
  "kernelspec": {
   "display_name": "Python 3 (ipykernel)",
   "language": "python",
   "name": "python3"
  },
  "language_info": {
   "codemirror_mode": {
    "name": "ipython",
    "version": 3
   },
   "file_extension": ".py",
   "mimetype": "text/x-python",
   "name": "python",
   "nbconvert_exporter": "python",
   "pygments_lexer": "ipython3",
   "version": "3.9.6"
  }
 },
 "nbformat": 4,
 "nbformat_minor": 4
}
